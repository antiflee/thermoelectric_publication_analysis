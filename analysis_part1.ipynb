{
 "cells": [
  {
   "cell_type": "markdown",
   "metadata": {},
   "source": [
    "## Investigating Recent Trends on Thermoelectric Publications (1998-2017)"
   ]
  },
  {
   "cell_type": "markdown",
   "metadata": {},
   "source": [
    "This is an IPhython version of the original work done on Databricks (see http://www.yufeil.com/tedatabricksnotebook.html for the notebook). This version is more concise."
   ]
  },
  {
   "cell_type": "markdown",
   "metadata": {},
   "source": [
    "**About Thermoelectrics**: The thermoelectric (TE) effect is the direct conversion between thermal and electrical energy. TE materials provide a clean, safe and stable way to generate power from waster heat."
   ]
  },
  {
   "cell_type": "markdown",
   "metadata": {},
   "source": [
    "**Motivation**: as a Ph.D student working on TE, I think it would be very helpful to study the recent publications on thermoelectric research. Not only can it be a review to conclude the past years, but more importantly, it provides insight into the possible future of the TE community, e.g., which materials are getting more popular, which countries will have the most researches and publications."
   ]
  },
  {
   "cell_type": "markdown",
   "metadata": {},
   "source": [
    "**Data Source**: Elsevier Scopus API. I collected ~70k papers since 1998, preprocessed them before saving into a PostgreSQL database, and then uploaded the csv files to AWS S3."
   ]
  },
  {
   "cell_type": "markdown",
   "metadata": {},
   "source": [
    "<h3 style=\"color:darkred\">Load the data</h3>"
   ]
  },
  {
   "cell_type": "code",
   "execution_count": 92,
   "metadata": {
    "collapsed": true
   },
   "outputs": [],
   "source": [
    "import os\n",
    "import re\n",
    "import numpy as np\n",
    "import pandas as pd\n",
    "import matplotlib.pyplot as plt\n",
    "import seaborn as sns\n",
    "%matplotlib inline"
   ]
  },
  {
   "cell_type": "code",
   "execution_count": 168,
   "metadata": {
    "collapsed": true
   },
   "outputs": [],
   "source": [
    "from nltk.tokenize import word_tokenize\n",
    "from nltk.corpus import stopwords\n",
    "from nltk.stem import WordNetLemmatizer\n",
    "from nltk import FreqDist"
   ]
  },
  {
   "cell_type": "code",
   "execution_count": 2,
   "metadata": {
    "collapsed": true
   },
   "outputs": [],
   "source": [
    "os.chdir(\"../raw_data/\")"
   ]
  },
  {
   "cell_type": "code",
   "execution_count": 3,
   "metadata": {},
   "outputs": [
    {
     "data": {
      "text/plain": [
       "['affiliations.csv',\n",
       " 'articles.csv',\n",
       " 'article_author_pairs.csv',\n",
       " 'authors.csv',\n",
       " 'journals.csv']"
      ]
     },
     "execution_count": 3,
     "metadata": {},
     "output_type": "execute_result"
    }
   ],
   "source": [
    "os.listdir()"
   ]
  },
  {
   "cell_type": "markdown",
   "metadata": {},
   "source": [
    "There are five data tables:\n",
    "\n",
    "(1) **affiliations**:         stores information of instituitions, such as universities and national labs.\n",
    "\n",
    "(2) **articles**:             stores the published papers, with its id, title, journal, date of publishing, and citation counts.\n",
    "\n",
    "(3) **article_author_pairs**: stores the authors in a specific paper.\n",
    "\n",
    "(4) **authors**:              stores information of authors worked on TE.\n",
    "\n",
    "(5) **journals**:             stores the journals that publish the papers."
   ]
  },
  {
   "cell_type": "markdown",
   "metadata": {},
   "source": [
    "Load the data"
   ]
  },
  {
   "cell_type": "code",
   "execution_count": 10,
   "metadata": {},
   "outputs": [
    {
     "data": {
      "text/html": [
       "<div>\n",
       "<style>\n",
       "    .dataframe thead tr:only-child th {\n",
       "        text-align: right;\n",
       "    }\n",
       "\n",
       "    .dataframe thead th {\n",
       "        text-align: left;\n",
       "    }\n",
       "\n",
       "    .dataframe tbody tr th {\n",
       "        vertical-align: top;\n",
       "    }\n",
       "</style>\n",
       "<table border=\"1\" class=\"dataframe\">\n",
       "  <thead>\n",
       "    <tr style=\"text-align: right;\">\n",
       "      <th></th>\n",
       "      <th>affiliation_id</th>\n",
       "      <th>href</th>\n",
       "      <th>affilname</th>\n",
       "      <th>city</th>\n",
       "      <th>country</th>\n",
       "    </tr>\n",
       "  </thead>\n",
       "  <tbody>\n",
       "    <tr>\n",
       "      <th>0</th>\n",
       "      <td>60075528</td>\n",
       "      <td>https://api.elsevier.com/content/affiliation/a...</td>\n",
       "      <td>Siberian State Aerospace University</td>\n",
       "      <td>Krasnoyarsk</td>\n",
       "      <td>Russian Federation</td>\n",
       "    </tr>\n",
       "  </tbody>\n",
       "</table>\n",
       "</div>"
      ],
      "text/plain": [
       "   affiliation_id                                               href  \\\n",
       "0        60075528  https://api.elsevier.com/content/affiliation/a...   \n",
       "\n",
       "                             affilname         city             country  \n",
       "0  Siberian State Aerospace University  Krasnoyarsk  Russian Federation  "
      ]
     },
     "execution_count": 10,
     "metadata": {},
     "output_type": "execute_result"
    }
   ],
   "source": [
    "affiliations = pd.read_csv('affiliations.csv', header=0)\n",
    "affiliations.head(1)"
   ]
  },
  {
   "cell_type": "code",
   "execution_count": 11,
   "metadata": {},
   "outputs": [
    {
     "data": {
      "text/html": [
       "<div>\n",
       "<style>\n",
       "    .dataframe thead tr:only-child th {\n",
       "        text-align: right;\n",
       "    }\n",
       "\n",
       "    .dataframe thead th {\n",
       "        text-align: left;\n",
       "    }\n",
       "\n",
       "    .dataframe tbody tr th {\n",
       "        vertical-align: top;\n",
       "    }\n",
       "</style>\n",
       "<table border=\"1\" class=\"dataframe\">\n",
       "  <thead>\n",
       "    <tr style=\"text-align: right;\">\n",
       "      <th></th>\n",
       "      <th>identifier</th>\n",
       "      <th>eid</th>\n",
       "      <th>doi</th>\n",
       "      <th>title</th>\n",
       "      <th>journal</th>\n",
       "      <th>cover_date</th>\n",
       "      <th>citedby_count</th>\n",
       "      <th>preview_url</th>\n",
       "      <th>abstract</th>\n",
       "    </tr>\n",
       "  </thead>\n",
       "  <tbody>\n",
       "    <tr>\n",
       "      <th>0</th>\n",
       "      <td>SCOPUS_ID:84994316286</td>\n",
       "      <td>2-s2.0-84994316286</td>\n",
       "      <td>10.3390/e18100353</td>\n",
       "      <td>Generalized thermodynamic optimization for iro...</td>\n",
       "      <td>Entropy</td>\n",
       "      <td>2016-01-01</td>\n",
       "      <td>19</td>\n",
       "      <td>https://www.scopus.com/inward/record.uri?partn...</td>\n",
       "      <td>NaN</td>\n",
       "    </tr>\n",
       "  </tbody>\n",
       "</table>\n",
       "</div>"
      ],
      "text/plain": [
       "              identifier                 eid                doi  \\\n",
       "0  SCOPUS_ID:84994316286  2-s2.0-84994316286  10.3390/e18100353   \n",
       "\n",
       "                                               title  journal  cover_date  \\\n",
       "0  Generalized thermodynamic optimization for iro...  Entropy  2016-01-01   \n",
       "\n",
       "   citedby_count                                        preview_url abstract  \n",
       "0             19  https://www.scopus.com/inward/record.uri?partn...      NaN  "
      ]
     },
     "execution_count": 11,
     "metadata": {},
     "output_type": "execute_result"
    }
   ],
   "source": [
    "articles = pd.read_csv('articles.csv', header=0, sep='|')\n",
    "articles.head(1)"
   ]
  },
  {
   "cell_type": "code",
   "execution_count": 14,
   "metadata": {},
   "outputs": [
    {
     "data": {
      "text/html": [
       "<div>\n",
       "<style>\n",
       "    .dataframe thead tr:only-child th {\n",
       "        text-align: right;\n",
       "    }\n",
       "\n",
       "    .dataframe thead th {\n",
       "        text-align: left;\n",
       "    }\n",
       "\n",
       "    .dataframe tbody tr th {\n",
       "        vertical-align: top;\n",
       "    }\n",
       "</style>\n",
       "<table border=\"1\" class=\"dataframe\">\n",
       "  <thead>\n",
       "    <tr style=\"text-align: right;\">\n",
       "      <th></th>\n",
       "      <th>article</th>\n",
       "      <th>author</th>\n",
       "      <th>seq</th>\n",
       "    </tr>\n",
       "  </thead>\n",
       "  <tbody>\n",
       "    <tr>\n",
       "      <th>0</th>\n",
       "      <td>SCOPUS_ID:84991467035</td>\n",
       "      <td>57191536746</td>\n",
       "      <td>1</td>\n",
       "    </tr>\n",
       "    <tr>\n",
       "      <th>1</th>\n",
       "      <td>SCOPUS_ID:84991467035</td>\n",
       "      <td>55768024900</td>\n",
       "      <td>2</td>\n",
       "    </tr>\n",
       "    <tr>\n",
       "      <th>2</th>\n",
       "      <td>SCOPUS_ID:84991467035</td>\n",
       "      <td>7102729654</td>\n",
       "      <td>3</td>\n",
       "    </tr>\n",
       "  </tbody>\n",
       "</table>\n",
       "</div>"
      ],
      "text/plain": [
       "                 article       author  seq\n",
       "0  SCOPUS_ID:84991467035  57191536746    1\n",
       "1  SCOPUS_ID:84991467035  55768024900    2\n",
       "2  SCOPUS_ID:84991467035   7102729654    3"
      ]
     },
     "execution_count": 14,
     "metadata": {},
     "output_type": "execute_result"
    }
   ],
   "source": [
    "article_author_pairs = pd.read_csv('article_author_pairs.csv', header=0)\n",
    "article_author_pairs.head(3)"
   ]
  },
  {
   "cell_type": "code",
   "execution_count": 15,
   "metadata": {},
   "outputs": [
    {
     "data": {
      "text/html": [
       "<div>\n",
       "<style>\n",
       "    .dataframe thead tr:only-child th {\n",
       "        text-align: right;\n",
       "    }\n",
       "\n",
       "    .dataframe thead th {\n",
       "        text-align: left;\n",
       "    }\n",
       "\n",
       "    .dataframe tbody tr th {\n",
       "        vertical-align: top;\n",
       "    }\n",
       "</style>\n",
       "<table border=\"1\" class=\"dataframe\">\n",
       "  <thead>\n",
       "    <tr style=\"text-align: right;\">\n",
       "      <th></th>\n",
       "      <th>author_id</th>\n",
       "      <th>initials</th>\n",
       "      <th>indexed_name</th>\n",
       "      <th>surname</th>\n",
       "      <th>given_name</th>\n",
       "      <th>author_url</th>\n",
       "      <th>affiliation</th>\n",
       "    </tr>\n",
       "  </thead>\n",
       "  <tbody>\n",
       "    <tr>\n",
       "      <th>0</th>\n",
       "      <td>57191536746</td>\n",
       "      <td>V.I.</td>\n",
       "      <td>NaN</td>\n",
       "      <td>Zakomirnyi</td>\n",
       "      <td>Vadim I.</td>\n",
       "      <td>https://api.elsevier.com/content/author/author...</td>\n",
       "      <td>{60075346}</td>\n",
       "    </tr>\n",
       "  </tbody>\n",
       "</table>\n",
       "</div>"
      ],
      "text/plain": [
       "     author_id initials  indexed_name     surname given_name  \\\n",
       "0  57191536746     V.I.           NaN  Zakomirnyi   Vadim I.   \n",
       "\n",
       "                                          author_url affiliation  \n",
       "0  https://api.elsevier.com/content/author/author...  {60075346}  "
      ]
     },
     "execution_count": 15,
     "metadata": {},
     "output_type": "execute_result"
    }
   ],
   "source": [
    "authors = pd.read_csv('authors.csv', header=0)\n",
    "authors.head(1)"
   ]
  },
  {
   "cell_type": "code",
   "execution_count": 16,
   "metadata": {},
   "outputs": [
    {
     "data": {
      "text/html": [
       "<div>\n",
       "<style>\n",
       "    .dataframe thead tr:only-child th {\n",
       "        text-align: right;\n",
       "    }\n",
       "\n",
       "    .dataframe thead th {\n",
       "        text-align: left;\n",
       "    }\n",
       "\n",
       "    .dataframe tbody tr th {\n",
       "        vertical-align: top;\n",
       "    }\n",
       "</style>\n",
       "<table border=\"1\" class=\"dataframe\">\n",
       "  <thead>\n",
       "    <tr style=\"text-align: right;\">\n",
       "      <th></th>\n",
       "      <th>journal_id</th>\n",
       "      <th>journal_name</th>\n",
       "    </tr>\n",
       "  </thead>\n",
       "  <tbody>\n",
       "    <tr>\n",
       "      <th>0</th>\n",
       "      <td>1</td>\n",
       "      <td>Journal of Quantitative Spectroscopy and Radia...</td>\n",
       "    </tr>\n",
       "  </tbody>\n",
       "</table>\n",
       "</div>"
      ],
      "text/plain": [
       "   journal_id                                       journal_name\n",
       "0           1  Journal of Quantitative Spectroscopy and Radia..."
      ]
     },
     "execution_count": 16,
     "metadata": {},
     "output_type": "execute_result"
    }
   ],
   "source": [
    "journals = pd.read_csv('journals.csv', header=0)\n",
    "journals.head(1)"
   ]
  },
  {
   "cell_type": "markdown",
   "metadata": {},
   "source": [
    "<h3 style=\"color:darkred\">Analysis</h3>"
   ]
  },
  {
   "cell_type": "markdown",
   "metadata": {},
   "source": [
    "<p style=\"color:darkblue;font-size:1.2em\">(1) Number of TE publications each year</p>"
   ]
  },
  {
   "cell_type": "code",
   "execution_count": 27,
   "metadata": {
    "collapsed": true
   },
   "outputs": [],
   "source": [
    "articles['year'] = articles['cover_date'].apply(lambda x: x[:4])\n",
    "articles_98_16 = articles[(articles['year']>'1997')&(articles['year']<'2017')]"
   ]
  },
  {
   "cell_type": "code",
   "execution_count": 28,
   "metadata": {},
   "outputs": [
    {
     "data": {
      "text/plain": [
       "<matplotlib.text.Text at 0x1583d7ce0f0>"
      ]
     },
     "execution_count": 28,
     "metadata": {},
     "output_type": "execute_result"
    },
    {
     "data": {
      "image/png": "[encoded data removed]",
      "text/plain": [
       "<matplotlib.figure.Figure at 0x1583d7cbeb8>"
      ]
     },
     "metadata": {},
     "output_type": "display_data"
    }
   ],
   "source": [
    "g_year = articles_98_16.groupby('year')\n",
    "ax = g_year['title'].count().plot()\n",
    "ax.set_ylabel('number of publications')\n",
    "ax.set_title('Number of TE Publications by Year')"
   ]
  },
  {
   "cell_type": "markdown",
   "metadata": {},
   "source": [
    "The TE publications are steadily increasing"
   ]
  },
  {
   "cell_type": "markdown",
   "metadata": {},
   "source": [
    "   "
   ]
  },
  {
   "cell_type": "markdown",
   "metadata": {},
   "source": [
    "   "
   ]
  },
  {
   "cell_type": "markdown",
   "metadata": {},
   "source": [
    "<p style=\"color:darkblue;font-size:1.2em\">(2) What journals are popular?</p>"
   ]
  },
  {
   "cell_type": "code",
   "execution_count": 39,
   "metadata": {},
   "outputs": [
    {
     "data": {
      "text/html": [
       "<div>\n",
       "<style>\n",
       "    .dataframe thead tr:only-child th {\n",
       "        text-align: right;\n",
       "    }\n",
       "\n",
       "    .dataframe thead th {\n",
       "        text-align: left;\n",
       "    }\n",
       "\n",
       "    .dataframe tbody tr th {\n",
       "        vertical-align: top;\n",
       "    }\n",
       "</style>\n",
       "<table border=\"1\" class=\"dataframe\">\n",
       "  <thead>\n",
       "    <tr style=\"text-align: right;\">\n",
       "      <th>year</th>\n",
       "      <th>1998</th>\n",
       "      <th>1999</th>\n",
       "      <th>2000</th>\n",
       "      <th>2001</th>\n",
       "      <th>2002</th>\n",
       "      <th>2003</th>\n",
       "      <th>2004</th>\n",
       "      <th>2005</th>\n",
       "      <th>2006</th>\n",
       "      <th>2007</th>\n",
       "      <th>2008</th>\n",
       "      <th>2009</th>\n",
       "      <th>2010</th>\n",
       "      <th>2011</th>\n",
       "      <th>2012</th>\n",
       "      <th>2013</th>\n",
       "      <th>2014</th>\n",
       "      <th>2015</th>\n",
       "      <th>2016</th>\n",
       "    </tr>\n",
       "    <tr>\n",
       "      <th>journal</th>\n",
       "      <th></th>\n",
       "      <th></th>\n",
       "      <th></th>\n",
       "      <th></th>\n",
       "      <th></th>\n",
       "      <th></th>\n",
       "      <th></th>\n",
       "      <th></th>\n",
       "      <th></th>\n",
       "      <th></th>\n",
       "      <th></th>\n",
       "      <th></th>\n",
       "      <th></th>\n",
       "      <th></th>\n",
       "      <th></th>\n",
       "      <th></th>\n",
       "      <th></th>\n",
       "      <th></th>\n",
       "      <th></th>\n",
       "    </tr>\n",
       "  </thead>\n",
       "  <tbody>\n",
       "    <tr>\n",
       "      <th>AIP Conference Proceedings</th>\n",
       "      <td>NaN</td>\n",
       "      <td>NaN</td>\n",
       "      <td>NaN</td>\n",
       "      <td>2.0</td>\n",
       "      <td>NaN</td>\n",
       "      <td>NaN</td>\n",
       "      <td>NaN</td>\n",
       "      <td>27.0</td>\n",
       "      <td>41.0</td>\n",
       "      <td>35.0</td>\n",
       "      <td>28.0</td>\n",
       "      <td>18.0</td>\n",
       "      <td>20.0</td>\n",
       "      <td>49.0</td>\n",
       "      <td>156.0</td>\n",
       "      <td>56.0</td>\n",
       "      <td>24.0</td>\n",
       "      <td>12.0</td>\n",
       "      <td>63.0</td>\n",
       "    </tr>\n",
       "    <tr>\n",
       "      <th>Acta Materialia</th>\n",
       "      <td>2.0</td>\n",
       "      <td>1.0</td>\n",
       "      <td>3.0</td>\n",
       "      <td>1.0</td>\n",
       "      <td>1.0</td>\n",
       "      <td>1.0</td>\n",
       "      <td>2.0</td>\n",
       "      <td>1.0</td>\n",
       "      <td>5.0</td>\n",
       "      <td>14.0</td>\n",
       "      <td>8.0</td>\n",
       "      <td>18.0</td>\n",
       "      <td>18.0</td>\n",
       "      <td>22.0</td>\n",
       "      <td>27.0</td>\n",
       "      <td>20.0</td>\n",
       "      <td>34.0</td>\n",
       "      <td>27.0</td>\n",
       "      <td>27.0</td>\n",
       "    </tr>\n",
       "    <tr>\n",
       "      <th>Acta Physica Polonica A</th>\n",
       "      <td>2.0</td>\n",
       "      <td>NaN</td>\n",
       "      <td>4.0</td>\n",
       "      <td>2.0</td>\n",
       "      <td>1.0</td>\n",
       "      <td>3.0</td>\n",
       "      <td>NaN</td>\n",
       "      <td>3.0</td>\n",
       "      <td>NaN</td>\n",
       "      <td>2.0</td>\n",
       "      <td>10.0</td>\n",
       "      <td>7.0</td>\n",
       "      <td>8.0</td>\n",
       "      <td>10.0</td>\n",
       "      <td>16.0</td>\n",
       "      <td>8.0</td>\n",
       "      <td>12.0</td>\n",
       "      <td>13.0</td>\n",
       "      <td>11.0</td>\n",
       "    </tr>\n",
       "  </tbody>\n",
       "</table>\n",
       "</div>"
      ],
      "text/plain": [
       "year                        1998  1999  2000  2001  2002  2003  2004  2005  \\\n",
       "journal                                                                      \n",
       "AIP Conference Proceedings   NaN   NaN   NaN   2.0   NaN   NaN   NaN  27.0   \n",
       "Acta Materialia              2.0   1.0   3.0   1.0   1.0   1.0   2.0   1.0   \n",
       "Acta Physica Polonica A      2.0   NaN   4.0   2.0   1.0   3.0   NaN   3.0   \n",
       "\n",
       "year                        2006  2007  2008  2009  2010  2011   2012  2013  \\\n",
       "journal                                                                       \n",
       "AIP Conference Proceedings  41.0  35.0  28.0  18.0  20.0  49.0  156.0  56.0   \n",
       "Acta Materialia              5.0  14.0   8.0  18.0  18.0  22.0   27.0  20.0   \n",
       "Acta Physica Polonica A      NaN   2.0  10.0   7.0   8.0  10.0   16.0   8.0   \n",
       "\n",
       "year                        2014  2015  2016  \n",
       "journal                                       \n",
       "AIP Conference Proceedings  24.0  12.0  63.0  \n",
       "Acta Materialia             34.0  27.0  27.0  \n",
       "Acta Physica Polonica A     12.0  13.0  11.0  "
      ]
     },
     "execution_count": 39,
     "metadata": {},
     "output_type": "execute_result"
    }
   ],
   "source": [
    "# Number of TE papers published by journal each year\n",
    "journal_papers_count = articles_98_16.pivot_table(values='title',index='journal',columns='year',aggfunc=len)\n",
    "journal_papers_count.dropna(axis=0,thresh=10,inplace=True)\n",
    "journal_papers_count.head(3)"
   ]
  },
  {
   "cell_type": "code",
   "execution_count": 40,
   "metadata": {},
   "outputs": [
    {
     "data": {
      "text/html": [
       "<div>\n",
       "<style>\n",
       "    .dataframe thead tr:only-child th {\n",
       "        text-align: right;\n",
       "    }\n",
       "\n",
       "    .dataframe thead th {\n",
       "        text-align: left;\n",
       "    }\n",
       "\n",
       "    .dataframe tbody tr th {\n",
       "        vertical-align: top;\n",
       "    }\n",
       "</style>\n",
       "<table border=\"1\" class=\"dataframe\">\n",
       "  <thead>\n",
       "    <tr style=\"text-align: right;\">\n",
       "      <th>year</th>\n",
       "      <th>1998</th>\n",
       "      <th>1999</th>\n",
       "      <th>2000</th>\n",
       "      <th>2001</th>\n",
       "      <th>2002</th>\n",
       "      <th>2003</th>\n",
       "      <th>2004</th>\n",
       "      <th>2005</th>\n",
       "      <th>2006</th>\n",
       "      <th>2007</th>\n",
       "      <th>2008</th>\n",
       "      <th>2009</th>\n",
       "      <th>2010</th>\n",
       "      <th>2011</th>\n",
       "      <th>2012</th>\n",
       "      <th>2013</th>\n",
       "      <th>2014</th>\n",
       "      <th>2015</th>\n",
       "      <th>2016</th>\n",
       "    </tr>\n",
       "    <tr>\n",
       "      <th>journal</th>\n",
       "      <th></th>\n",
       "      <th></th>\n",
       "      <th></th>\n",
       "      <th></th>\n",
       "      <th></th>\n",
       "      <th></th>\n",
       "      <th></th>\n",
       "      <th></th>\n",
       "      <th></th>\n",
       "      <th></th>\n",
       "      <th></th>\n",
       "      <th></th>\n",
       "      <th></th>\n",
       "      <th></th>\n",
       "      <th></th>\n",
       "      <th></th>\n",
       "      <th></th>\n",
       "      <th></th>\n",
       "      <th></th>\n",
       "    </tr>\n",
       "  </thead>\n",
       "  <tbody>\n",
       "    <tr>\n",
       "      <th>AIP Conference Proceedings</th>\n",
       "      <td>NaN</td>\n",
       "      <td>NaN</td>\n",
       "      <td>NaN</td>\n",
       "      <td>1.0</td>\n",
       "      <td>NaN</td>\n",
       "      <td>NaN</td>\n",
       "      <td>NaN</td>\n",
       "      <td>4.925926</td>\n",
       "      <td>2.512195</td>\n",
       "      <td>3.057143</td>\n",
       "      <td>1.964286</td>\n",
       "      <td>0.500000</td>\n",
       "      <td>1.600000</td>\n",
       "      <td>0.714286</td>\n",
       "      <td>1.160256</td>\n",
       "      <td>0.839286</td>\n",
       "      <td>1.583333</td>\n",
       "      <td>0.833333</td>\n",
       "      <td>0.206349</td>\n",
       "    </tr>\n",
       "    <tr>\n",
       "      <th>Acta Materialia</th>\n",
       "      <td>103.5</td>\n",
       "      <td>33.0</td>\n",
       "      <td>156.666667</td>\n",
       "      <td>116.0</td>\n",
       "      <td>34.0</td>\n",
       "      <td>45.000000</td>\n",
       "      <td>50.0</td>\n",
       "      <td>12.000000</td>\n",
       "      <td>36.800000</td>\n",
       "      <td>46.285714</td>\n",
       "      <td>49.250000</td>\n",
       "      <td>59.611111</td>\n",
       "      <td>30.166667</td>\n",
       "      <td>27.318182</td>\n",
       "      <td>18.962963</td>\n",
       "      <td>18.050000</td>\n",
       "      <td>19.705882</td>\n",
       "      <td>14.666667</td>\n",
       "      <td>5.185185</td>\n",
       "    </tr>\n",
       "    <tr>\n",
       "      <th>Acta Physica Polonica A</th>\n",
       "      <td>13.0</td>\n",
       "      <td>NaN</td>\n",
       "      <td>2.500000</td>\n",
       "      <td>3.5</td>\n",
       "      <td>2.0</td>\n",
       "      <td>3.333333</td>\n",
       "      <td>NaN</td>\n",
       "      <td>25.000000</td>\n",
       "      <td>NaN</td>\n",
       "      <td>3.000000</td>\n",
       "      <td>2.300000</td>\n",
       "      <td>4.571429</td>\n",
       "      <td>4.625000</td>\n",
       "      <td>4.200000</td>\n",
       "      <td>2.000000</td>\n",
       "      <td>2.250000</td>\n",
       "      <td>1.666667</td>\n",
       "      <td>0.307692</td>\n",
       "      <td>0.545455</td>\n",
       "    </tr>\n",
       "  </tbody>\n",
       "</table>\n",
       "</div>"
      ],
      "text/plain": [
       "year                         1998  1999        2000   2001  2002       2003  \\\n",
       "journal                                                                       \n",
       "AIP Conference Proceedings    NaN   NaN         NaN    1.0   NaN        NaN   \n",
       "Acta Materialia             103.5  33.0  156.666667  116.0  34.0  45.000000   \n",
       "Acta Physica Polonica A      13.0   NaN    2.500000    3.5   2.0   3.333333   \n",
       "\n",
       "year                        2004       2005       2006       2007       2008  \\\n",
       "journal                                                                        \n",
       "AIP Conference Proceedings   NaN   4.925926   2.512195   3.057143   1.964286   \n",
       "Acta Materialia             50.0  12.000000  36.800000  46.285714  49.250000   \n",
       "Acta Physica Polonica A      NaN  25.000000        NaN   3.000000   2.300000   \n",
       "\n",
       "year                             2009       2010       2011       2012  \\\n",
       "journal                                                                  \n",
       "AIP Conference Proceedings   0.500000   1.600000   0.714286   1.160256   \n",
       "Acta Materialia             59.611111  30.166667  27.318182  18.962963   \n",
       "Acta Physica Polonica A      4.571429   4.625000   4.200000   2.000000   \n",
       "\n",
       "year                             2013       2014       2015      2016  \n",
       "journal                                                                \n",
       "AIP Conference Proceedings   0.839286   1.583333   0.833333  0.206349  \n",
       "Acta Materialia             18.050000  19.705882  14.666667  5.185185  \n",
       "Acta Physica Polonica A      2.250000   1.666667   0.307692  0.545455  "
      ]
     },
     "execution_count": 40,
     "metadata": {},
     "output_type": "execute_result"
    }
   ],
   "source": [
    "# Average citations of TE papers published by journal each year\n",
    "journal_papers_citation = articles_98_16.pivot_table(values='citedby_count',index='journal',columns='year',aggfunc=np.mean)\n",
    "journal_papers_citation.dropna(axis=0,thresh=10,inplace=True)\n",
    "journal_papers_citation.head(3)"
   ]
  },
  {
   "cell_type": "markdown",
   "metadata": {},
   "source": [
    "I plotted them in Tableau"
   ]
  },
  {
   "cell_type": "markdown",
   "metadata": {},
   "source": [
    "<img src=\"https://s3.amazonaws.com/thermoelectric-publication-s3/MostPopularJournals.png\" alt=\"Most Popular Journals\">"
   ]
  },
  {
   "cell_type": "markdown",
   "metadata": {},
   "source": [
    "<img src=\"https://s3.amazonaws.com/thermoelectric-publication-s3/MostSignificantJournals.png\" alt=\"Most Significant Journals\">"
   ]
  },
  {
   "cell_type": "markdown",
   "metadata": {},
   "source": [
    "One thing to note is that the papers in some journals/magazines, such as Science and Nature, are not recorded in Elsevier Scopus API. But still, it is not a surprise that Rev. Mod. Phys. and some Nature magazines are among the most significant list."
   ]
  },
  {
   "cell_type": "markdown",
   "metadata": {},
   "source": [
    "I also extended the top list to Top30 and check which journals are both popular and significant for thermoelectric papers. Only 3 of them are qualified: Nano Letters, Physical Review Letters, and Advanced Materials. These are all good journals and it is also not that difficult (comparing with Nature, Rev. Mod. Phys., etc.) to get your thermoelectric papers published on them"
   ]
  },
  {
   "cell_type": "markdown",
   "metadata": {},
   "source": [
    "Here is the plot of the TE publication trend on some high impact factor journals."
   ]
  },
  {
   "cell_type": "markdown",
   "metadata": {},
   "source": [
    "<img src=\"https://s3.amazonaws.com/thermoelectric-publication-s3/PublicationTrendOnHighIFJournals.png\" alt=\"Publication Trend by Journal\">"
   ]
  },
  {
   "cell_type": "markdown",
   "metadata": {},
   "source": [
    "   "
   ]
  },
  {
   "cell_type": "markdown",
   "metadata": {},
   "source": [
    "   "
   ]
  },
  {
   "cell_type": "markdown",
   "metadata": {},
   "source": [
    "<p style=\"color:darkblue;font-size:1.2em\">(3) Distribution of authors</p>"
   ]
  },
  {
   "cell_type": "code",
   "execution_count": 49,
   "metadata": {},
   "outputs": [
    {
     "data": {
      "text/html": [
       "<div>\n",
       "<style>\n",
       "    .dataframe thead tr:only-child th {\n",
       "        text-align: right;\n",
       "    }\n",
       "\n",
       "    .dataframe thead th {\n",
       "        text-align: left;\n",
       "    }\n",
       "\n",
       "    .dataframe tbody tr th {\n",
       "        vertical-align: top;\n",
       "    }\n",
       "</style>\n",
       "<table border=\"1\" class=\"dataframe\">\n",
       "  <thead>\n",
       "    <tr style=\"text-align: right;\">\n",
       "      <th></th>\n",
       "      <th>article</th>\n",
       "      <th>author</th>\n",
       "      <th>seq</th>\n",
       "      <th>author_id</th>\n",
       "      <th>initials</th>\n",
       "      <th>indexed_name</th>\n",
       "      <th>surname</th>\n",
       "      <th>given_name</th>\n",
       "      <th>author_url</th>\n",
       "      <th>affiliation</th>\n",
       "      <th>...</th>\n",
       "      <th>cover_date</th>\n",
       "      <th>citedby_count</th>\n",
       "      <th>preview_url</th>\n",
       "      <th>abstract</th>\n",
       "      <th>year</th>\n",
       "      <th>affiliation_id</th>\n",
       "      <th>href</th>\n",
       "      <th>affilname</th>\n",
       "      <th>city</th>\n",
       "      <th>country</th>\n",
       "    </tr>\n",
       "  </thead>\n",
       "  <tbody>\n",
       "    <tr>\n",
       "      <th>0</th>\n",
       "      <td>SCOPUS_ID:84991467035</td>\n",
       "      <td>57191536746</td>\n",
       "      <td>1</td>\n",
       "      <td>5.719154e+10</td>\n",
       "      <td>V.I.</td>\n",
       "      <td>NaN</td>\n",
       "      <td>Zakomirnyi</td>\n",
       "      <td>Vadim I.</td>\n",
       "      <td>https://api.elsevier.com/content/author/author...</td>\n",
       "      <td>60075346</td>\n",
       "      <td>...</td>\n",
       "      <td>2016-01-01</td>\n",
       "      <td>19.0</td>\n",
       "      <td>https://www.scopus.com/inward/record.uri?partn...</td>\n",
       "      <td>NaN</td>\n",
       "      <td>2016</td>\n",
       "      <td>60075528.0</td>\n",
       "      <td>https://api.elsevier.com/content/affiliation/a...</td>\n",
       "      <td>Siberian State Aerospace University</td>\n",
       "      <td>Krasnoyarsk</td>\n",
       "      <td>Russian Federation</td>\n",
       "    </tr>\n",
       "    <tr>\n",
       "      <th>1</th>\n",
       "      <td>SCOPUS_ID:84991467035</td>\n",
       "      <td>55768024900</td>\n",
       "      <td>2</td>\n",
       "      <td>5.576802e+10</td>\n",
       "      <td>I.L.</td>\n",
       "      <td>NaN</td>\n",
       "      <td>Rasskazov</td>\n",
       "      <td>Ilia L.</td>\n",
       "      <td>https://api.elsevier.com/content/author/author...</td>\n",
       "      <td>60075346</td>\n",
       "      <td>...</td>\n",
       "      <td>2016-10-28</td>\n",
       "      <td>2.0</td>\n",
       "      <td>https://www.scopus.com/inward/record.uri?partn...</td>\n",
       "      <td>NaN</td>\n",
       "      <td>2016</td>\n",
       "      <td>60015749.0</td>\n",
       "      <td>https://api.elsevier.com/content/affiliation/a...</td>\n",
       "      <td>Kirensky Institute of Physics, Siberian Branch...</td>\n",
       "      <td>Krasnoyarsk</td>\n",
       "      <td>Russian Federation</td>\n",
       "    </tr>\n",
       "    <tr>\n",
       "      <th>2</th>\n",
       "      <td>SCOPUS_ID:84991467035</td>\n",
       "      <td>7102729654</td>\n",
       "      <td>3</td>\n",
       "      <td>7.102730e+09</td>\n",
       "      <td>S.V.</td>\n",
       "      <td>NaN</td>\n",
       "      <td>Karpov</td>\n",
       "      <td>Sergey V.</td>\n",
       "      <td>https://api.elsevier.com/content/author/author...</td>\n",
       "      <td>60075346</td>\n",
       "      <td>...</td>\n",
       "      <td>2016-06-30</td>\n",
       "      <td>3.0</td>\n",
       "      <td>https://www.scopus.com/inward/record.uri?partn...</td>\n",
       "      <td>NaN</td>\n",
       "      <td>2016</td>\n",
       "      <td>60075346.0</td>\n",
       "      <td>https://api.elsevier.com/content/affiliation/a...</td>\n",
       "      <td>Siberian Federal University</td>\n",
       "      <td>Krasnoyarsk</td>\n",
       "      <td>Russian Federation</td>\n",
       "    </tr>\n",
       "  </tbody>\n",
       "</table>\n",
       "<p>3 rows × 25 columns</p>\n",
       "</div>"
      ],
      "text/plain": [
       "                 article       author  seq     author_id initials  \\\n",
       "0  SCOPUS_ID:84991467035  57191536746    1  5.719154e+10     V.I.   \n",
       "1  SCOPUS_ID:84991467035  55768024900    2  5.576802e+10     I.L.   \n",
       "2  SCOPUS_ID:84991467035   7102729654    3  7.102730e+09     S.V.   \n",
       "\n",
       "   indexed_name     surname given_name  \\\n",
       "0           NaN  Zakomirnyi   Vadim I.   \n",
       "1           NaN   Rasskazov    Ilia L.   \n",
       "2           NaN      Karpov  Sergey V.   \n",
       "\n",
       "                                          author_url affiliation  \\\n",
       "0  https://api.elsevier.com/content/author/author...    60075346   \n",
       "1  https://api.elsevier.com/content/author/author...    60075346   \n",
       "2  https://api.elsevier.com/content/author/author...    60075346   \n",
       "\n",
       "          ...          cover_date citedby_count  \\\n",
       "0         ...          2016-01-01          19.0   \n",
       "1         ...          2016-10-28           2.0   \n",
       "2         ...          2016-06-30           3.0   \n",
       "\n",
       "                                         preview_url abstract  year  \\\n",
       "0  https://www.scopus.com/inward/record.uri?partn...      NaN  2016   \n",
       "1  https://www.scopus.com/inward/record.uri?partn...      NaN  2016   \n",
       "2  https://www.scopus.com/inward/record.uri?partn...      NaN  2016   \n",
       "\n",
       "  affiliation_id                                               href  \\\n",
       "0     60075528.0  https://api.elsevier.com/content/affiliation/a...   \n",
       "1     60015749.0  https://api.elsevier.com/content/affiliation/a...   \n",
       "2     60075346.0  https://api.elsevier.com/content/affiliation/a...   \n",
       "\n",
       "                                           affilname         city  \\\n",
       "0                Siberian State Aerospace University  Krasnoyarsk   \n",
       "1  Kirensky Institute of Physics, Siberian Branch...  Krasnoyarsk   \n",
       "2                        Siberian Federal University  Krasnoyarsk   \n",
       "\n",
       "              country  \n",
       "0  Russian Federation  \n",
       "1  Russian Federation  \n",
       "2  Russian Federation  \n",
       "\n",
       "[3 rows x 25 columns]"
      ]
     },
     "execution_count": 49,
     "metadata": {},
     "output_type": "execute_result"
    }
   ],
   "source": [
    "# Join articles and authors\n",
    "detailedArticles = article_author_pairs.join(authors, lsuffix='author',rsuffix='author_id')\n",
    "detailedArticles = detailedArticles.join(articles, lsuffix='article',rsuffix='identifier')\n",
    "\n",
    "# Some authors are associated with several affiliations. For simplicity, we only consider the first affiliation\n",
    "detailedArticles = detailedArticles[detailedArticles['affiliation'].notnull()]\n",
    "detailedArticles['affiliation'] = detailedArticles['affiliation'].[apply(lambda x: x.lstrip('{').rstrip('}').split(',')[0])\n",
    "\n",
    "# Join affiliation to detailedArticles\n",
    "detailedArticles = detailedArticles.join(affiliations, lsuffix='affiliation',rsuffix='affiliation_id')\n",
    "\n",
    "detailedArticles.head(3)"
   ]
  },
  {
   "cell_type": "code",
   "execution_count": 88,
   "metadata": {},
   "outputs": [
    {
     "data": {
      "text/html": [
       "<div>\n",
       "<style>\n",
       "    .dataframe thead tr:only-child th {\n",
       "        text-align: right;\n",
       "    }\n",
       "\n",
       "    .dataframe thead th {\n",
       "        text-align: left;\n",
       "    }\n",
       "\n",
       "    .dataframe tbody tr th {\n",
       "        vertical-align: top;\n",
       "    }\n",
       "</style>\n",
       "<table border=\"1\" class=\"dataframe\">\n",
       "  <thead>\n",
       "    <tr style=\"text-align: right;\">\n",
       "      <th></th>\n",
       "      <th>Country</th>\n",
       "      <th>Number of Authors</th>\n",
       "    </tr>\n",
       "  </thead>\n",
       "  <tbody>\n",
       "    <tr>\n",
       "      <th>17</th>\n",
       "      <td>China</td>\n",
       "      <td>506</td>\n",
       "    </tr>\n",
       "    <tr>\n",
       "      <th>103</th>\n",
       "      <td>United States</td>\n",
       "      <td>501</td>\n",
       "    </tr>\n",
       "    <tr>\n",
       "      <th>37</th>\n",
       "      <td>India</td>\n",
       "      <td>322</td>\n",
       "    </tr>\n",
       "    <tr>\n",
       "      <th>44</th>\n",
       "      <td>Japan</td>\n",
       "      <td>273</td>\n",
       "    </tr>\n",
       "    <tr>\n",
       "      <th>33</th>\n",
       "      <td>Germany</td>\n",
       "      <td>197</td>\n",
       "    </tr>\n",
       "    <tr>\n",
       "      <th>31</th>\n",
       "      <td>France</td>\n",
       "      <td>190</td>\n",
       "    </tr>\n",
       "    <tr>\n",
       "      <th>81</th>\n",
       "      <td>Russian Federation</td>\n",
       "      <td>151</td>\n",
       "    </tr>\n",
       "    <tr>\n",
       "      <th>90</th>\n",
       "      <td>South Korea</td>\n",
       "      <td>106</td>\n",
       "    </tr>\n",
       "    <tr>\n",
       "      <th>43</th>\n",
       "      <td>Italy</td>\n",
       "      <td>85</td>\n",
       "    </tr>\n",
       "    <tr>\n",
       "      <th>102</th>\n",
       "      <td>United Kingdom</td>\n",
       "      <td>75</td>\n",
       "    </tr>\n",
       "  </tbody>\n",
       "</table>\n",
       "</div>"
      ],
      "text/plain": [
       "                Country  Number of Authors\n",
       "17                China                506\n",
       "103       United States                501\n",
       "37                India                322\n",
       "44                Japan                273\n",
       "33              Germany                197\n",
       "31               France                190\n",
       "81   Russian Federation                151\n",
       "90          South Korea                106\n",
       "43                Italy                 85\n",
       "102      United Kingdom                 75"
      ]
     },
     "execution_count": 88,
     "metadata": {},
     "output_type": "execute_result"
    }
   ],
   "source": [
    "# Select authors that have published at least 3 TE papers\n",
    "authors_filtered = detailedArticles.groupby('author').count()['article']\n",
    "\n",
    "authors_filtered = authors_filtered[authors_filtered >= 3].reset_index()\n",
    "\n",
    "authors_affi = authors[authors['affiliation'].notnull()]\n",
    "authors_affi['affiliation'] = authors_affi['affiliation'].apply(lambda x: x.lstrip('{').rstrip('}').split(',')[0])\n",
    "authors_affi = authors_affi.join(affiliations, lsuffix='affiliation',rsuffix='affiliation_id')\n",
    "\n",
    "authors_by_country = authors_affi[authors_affi['author_id'].isin(authors_filtered['author'])]\n",
    "authors_by_country = authors_by_country.groupby('country')['author_id'].count().reset_index()\n",
    "authors_by_country.columns = ['Country','Number of Authors']\n",
    "authors_by_country.sort_values('Number of Authors',ascending=False)[:10]"
   ]
  },
  {
   "cell_type": "code",
   "execution_count": 79,
   "metadata": {
    "collapsed": true
   },
   "outputs": [],
   "source": [
    "authors_by_country.to_csv('analyzed/authors_by_country.csv',index=True)"
   ]
  },
  {
   "cell_type": "markdown",
   "metadata": {},
   "source": [
    "With this table, we can plot the distribution of authors in each country. I only selected the authors that have published at least 3 TE papers, and plotted it in Tableau"
   ]
  },
  {
   "cell_type": "markdown",
   "metadata": {},
   "source": [
    "<img src=\"https://s3.amazonaws.com/thermoelectric-publication-s3/AuthorMap.png\" alt=\"Author Map\">"
   ]
  },
  {
   "cell_type": "markdown",
   "metadata": {},
   "source": [
    "And we can plot number of publications by country each year."
   ]
  },
  {
   "cell_type": "markdown",
   "metadata": {},
   "source": [
    "<img src=\"https://s3.amazonaws.com/thermoelectric-publication-s3/PublicationByCountry1998-2016.png\" alt=\"Publications By Country\">"
   ]
  },
  {
   "cell_type": "markdown",
   "metadata": {},
   "source": [
    "So since 2012, China has published more thermoelectric papers than United States during one year. Thermoelectricity now attracts more and more interests in developing countries. "
   ]
  },
  {
   "cell_type": "markdown",
   "metadata": {},
   "source": [
    "<p style=\"color:darkblue;font-size:1.2em\">(4) Analysis based on the titles of the papers.</p>"
   ]
  },
  {
   "cell_type": "markdown",
   "metadata": {},
   "source": [
    "In this section we work on the titles of the articles."
   ]
  },
  {
   "cell_type": "code",
   "execution_count": 96,
   "metadata": {},
   "outputs": [
    {
     "data": {
      "text/html": [
       "<div>\n",
       "<style>\n",
       "    .dataframe thead tr:only-child th {\n",
       "        text-align: right;\n",
       "    }\n",
       "\n",
       "    .dataframe thead th {\n",
       "        text-align: left;\n",
       "    }\n",
       "\n",
       "    .dataframe tbody tr th {\n",
       "        vertical-align: top;\n",
       "    }\n",
       "</style>\n",
       "<table border=\"1\" class=\"dataframe\">\n",
       "  <thead>\n",
       "    <tr style=\"text-align: right;\">\n",
       "      <th></th>\n",
       "      <th>title</th>\n",
       "      <th>year</th>\n",
       "      <th>citedby_count</th>\n",
       "    </tr>\n",
       "  </thead>\n",
       "  <tbody>\n",
       "    <tr>\n",
       "      <th>0</th>\n",
       "      <td>Generalized thermodynamic optimization for iro...</td>\n",
       "      <td>2016</td>\n",
       "      <td>19</td>\n",
       "    </tr>\n",
       "    <tr>\n",
       "      <th>1</th>\n",
       "      <td>First-principles study of the defected phospho...</td>\n",
       "      <td>2016</td>\n",
       "      <td>2</td>\n",
       "    </tr>\n",
       "    <tr>\n",
       "      <th>2</th>\n",
       "      <td>Interactions and thermoelectric effects in a p...</td>\n",
       "      <td>2016</td>\n",
       "      <td>3</td>\n",
       "    </tr>\n",
       "    <tr>\n",
       "      <th>3</th>\n",
       "      <td>Effect of sample producing conditions on the t...</td>\n",
       "      <td>2003</td>\n",
       "      <td>40</td>\n",
       "    </tr>\n",
       "    <tr>\n",
       "      <th>4</th>\n",
       "      <td>Temperature mapping of operating nanoscale dev...</td>\n",
       "      <td>2016</td>\n",
       "      <td>14</td>\n",
       "    </tr>\n",
       "  </tbody>\n",
       "</table>\n",
       "</div>"
      ],
      "text/plain": [
       "                                               title  year  citedby_count\n",
       "0  Generalized thermodynamic optimization for iro...  2016             19\n",
       "1  First-principles study of the defected phospho...  2016              2\n",
       "2  Interactions and thermoelectric effects in a p...  2016              3\n",
       "3  Effect of sample producing conditions on the t...  2003             40\n",
       "4  Temperature mapping of operating nanoscale dev...  2016             14"
      ]
     },
     "execution_count": 96,
     "metadata": {},
     "output_type": "execute_result"
    }
   ],
   "source": [
    "titles = articles[['title', 'year', 'citedby_count']]\n",
    "titles = titles[pd.notnull(titles['title'])]\n",
    "titles.head()"
   ]
  },
  {
   "cell_type": "code",
   "execution_count": 97,
   "metadata": {},
   "outputs": [
    {
     "data": {
      "text/plain": [
       "(72864, 3)"
      ]
     },
     "execution_count": 97,
     "metadata": {},
     "output_type": "execute_result"
    }
   ],
   "source": [
    "titles.shape"
   ]
  },
  {
   "cell_type": "code",
   "execution_count": 98,
   "metadata": {
    "collapsed": true
   },
   "outputs": [],
   "source": [
    "# 1. Clean the title\n",
    "def title_cleanse(title):\n",
    "    \"\"\"\n",
    "        Some titles contain molecular formula, and needs to be cleaned, for instance:\n",
    "        'properties of Mg<inf>2</inf>Ge<inf>x</inf>Sn<inf>1-x</inf> (x = 0.25, 0.50, 0.75) '\n",
    "        'SrTiO3/SrTi1 ?' &lt;i&gt;x&lt;/i&gt;Fe&lt;i&gt;x&lt;/i&gt;O3 '\n",
    "        'Bi&lt;inf&gt;2-x&lt;/inf&gt;Sb&lt;inf&gt;x&lt;/inf&gt;Te&lt;inf&gt;3-y&lt;/inf&gt;Se&lt;inf&gt;y&lt;/inf&gt;:'\n",
    "    \"\"\"\n",
    "    replace_list = [r'<inf>', r'</inf>', r'&lt;inf&gt;', r'&lt;/inf&gt;', r'?', r'<sup>', r'</sup>']\n",
    "        \n",
    "    for rep in replace_list:\n",
    "        title = title.replace(rep, '')\n",
    "        \n",
    "    # Some titles still have question mark '?' left, and in most cases they represent dash '-'.\n",
    "    title=title.replace(r'?',r'-')\n",
    "    \n",
    "    return title\n",
    "\n",
    "# 2. Remove compositions in the molecular formula. For example, Bi2Te3 becomes BiTe. \n",
    "#    The purpose is to make the analysis easier. Also, it makes sense in most cases\n",
    "#    that the compounds consisting of same elements are related to each other, even \n",
    "#    they have different compositions.\n",
    "def extract_compounds(title):\n",
    "    # Extract compounds from a title.\n",
    "    ele='(A[cglmrstu]|B[aehikr]?|C[adeflmnorsu]?|D[bsy]|E[rsu]|F[elmr]?|G[ade]|H[efgos]?|I[nr]?|Kr?|L[airuv]|M[dgnot]|N[abdeiop]?|Os?|P[abdmortu]?|R[abefghnu]|S[bcegimnr]?|T[abcehilm]|U(u[opst])?|V|W|Xe|Yb?|Z[nr])'\n",
    "    pattern=r'(('+ele+'+(\\d+(\\.\\d+)?\\-?)?([xyz]|((\\d\\.)?\\d))?(\\-\\d+(\\.\\d+)?)?)+)[^a-zA-Z0-9]'\n",
    "    \n",
    "    match = re.findall(pattern, title+\" \")\n",
    "    compounds = [m[0] for m in match] if match else []\n",
    "    \n",
    "    # To-do: convert compound name to formula. Maybe can use ChemSpider or PubChem API.\n",
    "    \n",
    "    return compounds\n",
    "\n",
    "def remove_composition(title):\n",
    "    # Remove the compositions in the molecular formula: Bi2Te3 becomes BiTe\n",
    "    compounds = extract_compounds(title)\n",
    "    if compounds:\n",
    "        for compound in compounds:\n",
    "            new_compound = re.sub(r'[\\dxyz\\.?\\-]', '', compound)\n",
    "            title = title.replace(compound, new_compound)\n",
    "    return title\n",
    "\n",
    "# 3. Extract chemical compounds from the title\n",
    "def extract_compounds_return_string(title):\n",
    "    compounds = extract_compounds(title)\n",
    "    new_compounds = []\n",
    "    \n",
    "    for compound in compounds:\n",
    "        new_compounds.append(re.sub(r'[\\dxyz\\.?\\-]', '', compound))\n",
    "        \n",
    "    return \",\".join(new_compounds)"
   ]
  },
  {
   "cell_type": "markdown",
   "metadata": {},
   "source": [
    "Let's clean the title and create a 'compounds' column."
   ]
  },
  {
   "cell_type": "code",
   "execution_count": 99,
   "metadata": {},
   "outputs": [],
   "source": [
    "titles['cleaned_title'] = titles['title'].apply(title_cleanse)"
   ]
  },
  {
   "cell_type": "code",
   "execution_count": 104,
   "metadata": {},
   "outputs": [],
   "source": [
    "titles['compounds'] = titles['cleaned_title'].apply(extract_compounds_return_string)"
   ]
  },
  {
   "cell_type": "code",
   "execution_count": 102,
   "metadata": {
    "collapsed": true
   },
   "outputs": [],
   "source": [
    "titles['cleaned_title'] = titles['cleaned_title'].apply(remove_composition)"
   ]
  },
  {
   "cell_type": "code",
   "execution_count": 112,
   "metadata": {},
   "outputs": [
    {
     "data": {
      "text/html": [
       "<div>\n",
       "<style>\n",
       "    .dataframe thead tr:only-child th {\n",
       "        text-align: right;\n",
       "    }\n",
       "\n",
       "    .dataframe thead th {\n",
       "        text-align: left;\n",
       "    }\n",
       "\n",
       "    .dataframe tbody tr th {\n",
       "        vertical-align: top;\n",
       "    }\n",
       "</style>\n",
       "<table border=\"1\" class=\"dataframe\">\n",
       "  <thead>\n",
       "    <tr style=\"text-align: right;\">\n",
       "      <th></th>\n",
       "      <th>title</th>\n",
       "      <th>year</th>\n",
       "      <th>citedby_count</th>\n",
       "      <th>cleaned_title</th>\n",
       "      <th>compounds</th>\n",
       "    </tr>\n",
       "  </thead>\n",
       "  <tbody>\n",
       "    <tr>\n",
       "      <th>3</th>\n",
       "      <td>Effect of sample producing conditions on the t...</td>\n",
       "      <td>2003</td>\n",
       "      <td>40</td>\n",
       "      <td>Effect of sample producing conditions on the t...</td>\n",
       "      <td>ZnS</td>\n",
       "    </tr>\n",
       "    <tr>\n",
       "      <th>5</th>\n",
       "      <td>The effect of mesoporous structure on the ther...</td>\n",
       "      <td>2016</td>\n",
       "      <td>1</td>\n",
       "      <td>The effect of mesoporous structure on the ther...</td>\n",
       "      <td>La,SrTiO</td>\n",
       "    </tr>\n",
       "    <tr>\n",
       "      <th>7</th>\n",
       "      <td>Synthesis of Ge/Si core/shell nanowires with s...</td>\n",
       "      <td>2016</td>\n",
       "      <td>0</td>\n",
       "      <td>Synthesis of Ge/Si core/shell nanowires with s...</td>\n",
       "      <td>Ge,Si</td>\n",
       "    </tr>\n",
       "    <tr>\n",
       "      <th>14</th>\n",
       "      <td>Effect of a High Density of Stacking Faults on...</td>\n",
       "      <td>2016</td>\n",
       "      <td>10</td>\n",
       "      <td>Effect of a High Density of Stacking Faults on...</td>\n",
       "      <td>GaAs</td>\n",
       "    </tr>\n",
       "    <tr>\n",
       "      <th>16</th>\n",
       "      <td>First principles calculation of thermoelectric...</td>\n",
       "      <td>2016</td>\n",
       "      <td>1</td>\n",
       "      <td>First principles calculation of thermoelectric...</td>\n",
       "      <td>BN</td>\n",
       "    </tr>\n",
       "  </tbody>\n",
       "</table>\n",
       "</div>"
      ],
      "text/plain": [
       "                                                title  year  citedby_count  \\\n",
       "3   Effect of sample producing conditions on the t...  2003             40   \n",
       "5   The effect of mesoporous structure on the ther...  2016              1   \n",
       "7   Synthesis of Ge/Si core/shell nanowires with s...  2016              0   \n",
       "14  Effect of a High Density of Stacking Faults on...  2016             10   \n",
       "16  First principles calculation of thermoelectric...  2016              1   \n",
       "\n",
       "                                        cleaned_title compounds  \n",
       "3   Effect of sample producing conditions on the t...       ZnS  \n",
       "5   The effect of mesoporous structure on the ther...  La,SrTiO  \n",
       "7   Synthesis of Ge/Si core/shell nanowires with s...     Ge,Si  \n",
       "14  Effect of a High Density of Stacking Faults on...      GaAs  \n",
       "16  First principles calculation of thermoelectric...        BN  "
      ]
     },
     "execution_count": 112,
     "metadata": {},
     "output_type": "execute_result"
    }
   ],
   "source": [
    "titles[titles['compounds'] != ''].head()"
   ]
  },
  {
   "cell_type": "markdown",
   "metadata": {},
   "source": [
    "Now we have cleaned titles, and the compounds that were worked on. The first thing we can do is to study what materials/compounds are popular."
   ]
  },
  {
   "cell_type": "code",
   "execution_count": 147,
   "metadata": {
    "collapsed": true
   },
   "outputs": [],
   "source": [
    "column_names = ['compound','year','citeby_count']\n",
    "compoundsDF = pd.DataFrame(columns=column_names)\n",
    "\n",
    "def get_compounds_info(titles):\n",
    "    # For each row in titles, we extract the compounds studied, and add it to compoundsDF.\n",
    "    for i in titles.index:\n",
    "        compounds = titles.loc[i,'compounds'].split(',')\n",
    "        year, citedby_count = titles.loc[i,'year'],titles.loc[i,'citedby_count']\n",
    "        for compound in compounds:\n",
    "            if len(compound) > 0:\n",
    "                compoundsDF.loc[compoundsDF.shape[0]] = [compound,year,citedby_count]"
   ]
  },
  {
   "cell_type": "code",
   "execution_count": 148,
   "metadata": {},
   "outputs": [],
   "source": [
    "# Create compoundsDF\n",
    "get_compounds_info(titles)"
   ]
  },
  {
   "cell_type": "code",
   "execution_count": 162,
   "metadata": {},
   "outputs": [
    {
     "data": {
      "text/plain": [
       "(27556, 3)"
      ]
     },
     "execution_count": 162,
     "metadata": {},
     "output_type": "execute_result"
    }
   ],
   "source": [
    "compoundsDF_filtered = compoundsDF[(compoundsDF['year']>'1997')]\n",
    "compoundsDF_filtered = compoundsDF_filtered[compoundsDF_filtered['compound'].apply(lambda x: len(x) >= 3)]\n",
    "compoundsDF_filtered.shape"
   ]
  },
  {
   "cell_type": "code",
   "execution_count": 163,
   "metadata": {},
   "outputs": [
    {
     "data": {
      "text/html": [
       "<div>\n",
       "<style>\n",
       "    .dataframe thead tr:only-child th {\n",
       "        text-align: right;\n",
       "    }\n",
       "\n",
       "    .dataframe thead th {\n",
       "        text-align: left;\n",
       "    }\n",
       "\n",
       "    .dataframe tbody tr th {\n",
       "        vertical-align: top;\n",
       "    }\n",
       "</style>\n",
       "<table border=\"1\" class=\"dataframe\">\n",
       "  <thead>\n",
       "    <tr style=\"text-align: right;\">\n",
       "      <th>year</th>\n",
       "      <th>1998</th>\n",
       "      <th>1999</th>\n",
       "      <th>2000</th>\n",
       "      <th>2001</th>\n",
       "      <th>2002</th>\n",
       "      <th>2003</th>\n",
       "      <th>2004</th>\n",
       "      <th>2005</th>\n",
       "      <th>2006</th>\n",
       "      <th>2007</th>\n",
       "      <th>2008</th>\n",
       "      <th>2009</th>\n",
       "      <th>2010</th>\n",
       "      <th>2011</th>\n",
       "      <th>2012</th>\n",
       "      <th>2013</th>\n",
       "      <th>2014</th>\n",
       "      <th>2015</th>\n",
       "      <th>2016</th>\n",
       "      <th>2017</th>\n",
       "    </tr>\n",
       "    <tr>\n",
       "      <th>compound</th>\n",
       "      <th></th>\n",
       "      <th></th>\n",
       "      <th></th>\n",
       "      <th></th>\n",
       "      <th></th>\n",
       "      <th></th>\n",
       "      <th></th>\n",
       "      <th></th>\n",
       "      <th></th>\n",
       "      <th></th>\n",
       "      <th></th>\n",
       "      <th></th>\n",
       "      <th></th>\n",
       "      <th></th>\n",
       "      <th></th>\n",
       "      <th></th>\n",
       "      <th></th>\n",
       "      <th></th>\n",
       "      <th></th>\n",
       "      <th></th>\n",
       "    </tr>\n",
       "  </thead>\n",
       "  <tbody>\n",
       "    <tr>\n",
       "      <th>AgAlO</th>\n",
       "      <td>NaN</td>\n",
       "      <td>NaN</td>\n",
       "      <td>NaN</td>\n",
       "      <td>NaN</td>\n",
       "      <td>NaN</td>\n",
       "      <td>NaN</td>\n",
       "      <td>NaN</td>\n",
       "      <td>NaN</td>\n",
       "      <td>NaN</td>\n",
       "      <td>NaN</td>\n",
       "      <td>NaN</td>\n",
       "      <td>NaN</td>\n",
       "      <td>NaN</td>\n",
       "      <td>NaN</td>\n",
       "      <td>NaN</td>\n",
       "      <td>NaN</td>\n",
       "      <td>NaN</td>\n",
       "      <td>NaN</td>\n",
       "      <td>NaN</td>\n",
       "      <td>1.0</td>\n",
       "    </tr>\n",
       "    <tr>\n",
       "      <th>AgAuS</th>\n",
       "      <td>NaN</td>\n",
       "      <td>NaN</td>\n",
       "      <td>NaN</td>\n",
       "      <td>NaN</td>\n",
       "      <td>NaN</td>\n",
       "      <td>NaN</td>\n",
       "      <td>NaN</td>\n",
       "      <td>NaN</td>\n",
       "      <td>NaN</td>\n",
       "      <td>NaN</td>\n",
       "      <td>NaN</td>\n",
       "      <td>NaN</td>\n",
       "      <td>NaN</td>\n",
       "      <td>NaN</td>\n",
       "      <td>NaN</td>\n",
       "      <td>NaN</td>\n",
       "      <td>NaN</td>\n",
       "      <td>NaN</td>\n",
       "      <td>NaN</td>\n",
       "      <td>2.0</td>\n",
       "    </tr>\n",
       "    <tr>\n",
       "      <th>AgAuSe</th>\n",
       "      <td>NaN</td>\n",
       "      <td>NaN</td>\n",
       "      <td>NaN</td>\n",
       "      <td>NaN</td>\n",
       "      <td>1.0</td>\n",
       "      <td>NaN</td>\n",
       "      <td>NaN</td>\n",
       "      <td>NaN</td>\n",
       "      <td>NaN</td>\n",
       "      <td>NaN</td>\n",
       "      <td>NaN</td>\n",
       "      <td>NaN</td>\n",
       "      <td>NaN</td>\n",
       "      <td>NaN</td>\n",
       "      <td>NaN</td>\n",
       "      <td>NaN</td>\n",
       "      <td>NaN</td>\n",
       "      <td>NaN</td>\n",
       "      <td>1.0</td>\n",
       "      <td>1.0</td>\n",
       "    </tr>\n",
       "    <tr>\n",
       "      <th>AgAuTe</th>\n",
       "      <td>NaN</td>\n",
       "      <td>NaN</td>\n",
       "      <td>1.0</td>\n",
       "      <td>NaN</td>\n",
       "      <td>NaN</td>\n",
       "      <td>NaN</td>\n",
       "      <td>NaN</td>\n",
       "      <td>NaN</td>\n",
       "      <td>NaN</td>\n",
       "      <td>NaN</td>\n",
       "      <td>NaN</td>\n",
       "      <td>NaN</td>\n",
       "      <td>NaN</td>\n",
       "      <td>NaN</td>\n",
       "      <td>NaN</td>\n",
       "      <td>NaN</td>\n",
       "      <td>NaN</td>\n",
       "      <td>NaN</td>\n",
       "      <td>1.0</td>\n",
       "      <td>1.0</td>\n",
       "    </tr>\n",
       "    <tr>\n",
       "      <th>AgBi</th>\n",
       "      <td>NaN</td>\n",
       "      <td>NaN</td>\n",
       "      <td>NaN</td>\n",
       "      <td>NaN</td>\n",
       "      <td>NaN</td>\n",
       "      <td>1.0</td>\n",
       "      <td>NaN</td>\n",
       "      <td>1.0</td>\n",
       "      <td>NaN</td>\n",
       "      <td>1.0</td>\n",
       "      <td>NaN</td>\n",
       "      <td>NaN</td>\n",
       "      <td>NaN</td>\n",
       "      <td>NaN</td>\n",
       "      <td>NaN</td>\n",
       "      <td>1.0</td>\n",
       "      <td>NaN</td>\n",
       "      <td>NaN</td>\n",
       "      <td>1.0</td>\n",
       "      <td>NaN</td>\n",
       "    </tr>\n",
       "  </tbody>\n",
       "</table>\n",
       "</div>"
      ],
      "text/plain": [
       "year      1998  1999  2000  2001  2002  2003  2004  2005  2006  2007  2008  \\\n",
       "compound                                                                     \n",
       "AgAlO      NaN   NaN   NaN   NaN   NaN   NaN   NaN   NaN   NaN   NaN   NaN   \n",
       "AgAuS      NaN   NaN   NaN   NaN   NaN   NaN   NaN   NaN   NaN   NaN   NaN   \n",
       "AgAuSe     NaN   NaN   NaN   NaN   1.0   NaN   NaN   NaN   NaN   NaN   NaN   \n",
       "AgAuTe     NaN   NaN   1.0   NaN   NaN   NaN   NaN   NaN   NaN   NaN   NaN   \n",
       "AgBi       NaN   NaN   NaN   NaN   NaN   1.0   NaN   1.0   NaN   1.0   NaN   \n",
       "\n",
       "year      2009  2010  2011  2012  2013  2014  2015  2016  2017  \n",
       "compound                                                        \n",
       "AgAlO      NaN   NaN   NaN   NaN   NaN   NaN   NaN   NaN   1.0  \n",
       "AgAuS      NaN   NaN   NaN   NaN   NaN   NaN   NaN   NaN   2.0  \n",
       "AgAuSe     NaN   NaN   NaN   NaN   NaN   NaN   NaN   1.0   1.0  \n",
       "AgAuTe     NaN   NaN   NaN   NaN   NaN   NaN   NaN   1.0   1.0  \n",
       "AgBi       NaN   NaN   NaN   NaN   1.0   NaN   NaN   1.0   NaN  "
      ]
     },
     "execution_count": 163,
     "metadata": {},
     "output_type": "execute_result"
    }
   ],
   "source": [
    "compounds_by_year = compoundsDF_filtered[['compound','year']].pivot_table(index='compound', columns='year', aggfunc=len)\n",
    "compounds_by_year.head()"
   ]
  },
  {
   "cell_type": "markdown",
   "metadata": {},
   "source": [
    "Plot compounds studied each year in Tableau:"
   ]
  },
  {
   "cell_type": "markdown",
   "metadata": {},
   "source": [
    "<img src=\"https://s3.amazonaws.com/thermoelectric-publication-s3/ThermoelectricMaterialsTrend.png\" alt=\"Thermoelectric Materials Trend\">"
   ]
  },
  {
   "cell_type": "markdown",
   "metadata": {},
   "source": [
    "(1) Bismuth telluride is still the most popular thermoelectric materials these years. Note that here BiSbTe and BiSeTe are not included, even though they both belong to Bi2Te3 family. \n",
    "\n",
    "(2) PbTe was intensively studied early 2010s, but gets less attention in recent years. \n",
    "\n",
    "(3) SnSe now attracts more and more interest. This is largely due to a Nature paper published in 2014, where the figure of merit was record-high. (Nature 508, 373 (2014))"
   ]
  },
  {
   "cell_type": "markdown",
   "metadata": {},
   "source": [
    "<p style=\"color:darkblue;font-size:1.2em\">(5) Extract key words each year</p>"
   ]
  },
  {
   "cell_type": "markdown",
   "metadata": {},
   "source": [
    "We implement NLTK to analyze the key words each year. And we will generate wordclouds."
   ]
  },
  {
   "cell_type": "markdown",
   "metadata": {},
   "source": [
    "Firstly, we adopt TF-IDF, to evaluate the importance of each word for each year."
   ]
  },
  {
   "cell_type": "code",
   "execution_count": 172,
   "metadata": {},
   "outputs": [],
   "source": [
    "# Pre-process the titles: stop words, lemmatize\n",
    "import string\n",
    "\n",
    "stop_words = set(stopwords.words(\"english\"))\n",
    "lemmatizer = WordNetLemmatizer()\n",
    "\n",
    "def process_title(title):\n",
    "    words = word_tokenize(title)\n",
    "    try:\n",
    "        words[0] = words[0].lower()\n",
    "    except Excetion as e:\n",
    "        pass\n",
    "    words = [lemmatizer.lemmatize(w.translate(string.punctuation)) for w in words if not w in stop_words and len(w)>3]\n",
    "    \n",
    "    return ' '.join(words)+','\n",
    "\n",
    "titles['processed_title'] = titles['cleaned_title'].apply(process_title)"
   ]
  },
  {
   "cell_type": "code",
   "execution_count": 176,
   "metadata": {
    "collapsed": true
   },
   "outputs": [],
   "source": [
    "# Attach the extracted compounds to the title to strengthen the importance of materials.\n",
    "titles['processed_title']=titles['processed_title']+titles['compounds'].apply(lambda x: ' '.join(x.split(',')))"
   ]
  },
  {
   "cell_type": "markdown",
   "metadata": {},
   "source": [
    "Now analyze popular words each year."
   ]
  },
  {
   "cell_type": "code",
   "execution_count": 186,
   "metadata": {},
   "outputs": [
    {
     "data": {
      "text/html": [
       "<div>\n",
       "<style>\n",
       "    .dataframe thead tr:only-child th {\n",
       "        text-align: right;\n",
       "    }\n",
       "\n",
       "    .dataframe thead th {\n",
       "        text-align: left;\n",
       "    }\n",
       "\n",
       "    .dataframe tbody tr th {\n",
       "        vertical-align: top;\n",
       "    }\n",
       "</style>\n",
       "<table border=\"1\" class=\"dataframe\">\n",
       "  <thead>\n",
       "    <tr style=\"text-align: right;\">\n",
       "      <th></th>\n",
       "      <th>year</th>\n",
       "      <th>processed_title</th>\n",
       "    </tr>\n",
       "  </thead>\n",
       "  <tbody>\n",
       "    <tr>\n",
       "      <th>8</th>\n",
       "      <td>1998</td>\n",
       "      <td>environmental issue arising thermopower genera...</td>\n",
       "    </tr>\n",
       "    <tr>\n",
       "      <th>9</th>\n",
       "      <td>1999</td>\n",
       "      <td>InitioDetermination Novel Perovskite-Related S...</td>\n",
       "    </tr>\n",
       "    <tr>\n",
       "      <th>10</th>\n",
       "      <td>2000</td>\n",
       "      <td>study bismuth sulphoselenide thin film Growth ...</td>\n",
       "    </tr>\n",
       "  </tbody>\n",
       "</table>\n",
       "</div>"
      ],
      "text/plain": [
       "    year                                    processed_title\n",
       "8   1998  environmental issue arising thermopower genera...\n",
       "9   1999  InitioDetermination Novel Perovskite-Related S...\n",
       "10  2000  study bismuth sulphoselenide thin film Growth ..."
      ]
     },
     "execution_count": 186,
     "metadata": {},
     "output_type": "execute_result"
    }
   ],
   "source": [
    "wordsByYear = titles.groupby('year')['processed_title'].apply(lambda x: \"{}\".format(','.join(x)))\n",
    "wordsByYearDF = wordsByYear.reset_index(level=0)\n",
    "wordsByYearDF = wordsByYearDF[(wordsByYearDF['year']>'1997')]\n",
    "wordsByYearDF.head(3)"
   ]
  },
  {
   "cell_type": "code",
   "execution_count": 188,
   "metadata": {},
   "outputs": [],
   "source": [
    "# We use TF-IDF to get the relative importance of each word over years.\n",
    "from sklearn.feature_extraction.text import TfidfVectorizer\n",
    "\n",
    "# Build [words] for all years\n",
    "words_list_all_years = wordsByYearDF['processed_title'].tolist()\n",
    "\n",
    "# Build tfidf model, and fit the words_list_all_years\n",
    "vectorizer = TfidfVectorizer(sublinear_tf=True, max_df=0.7, stop_words='english', lowercase=False)\n",
    "tfidf = vectorizer.fit_transform(words_list_all_years)\n",
    "\n",
    "# tfidf stores the TFIDF vectors each year.\n",
    "tfidf = tfidf.toarray()\n",
    "\n",
    "feature_names = vectorizer.get_feature_names()\n",
    "vocabulary = vectorizer.vocabulary_\n",
    "\n",
    "column_names = [''] * len(vocabulary)\n",
    "\n",
    "for key, value in vocabulary.items():\n",
    "    column_names[value] = key"
   ]
  },
  {
   "cell_type": "code",
   "execution_count": 193,
   "metadata": {
    "collapsed": true
   },
   "outputs": [],
   "source": [
    "tfidf_df = pd.DataFrame(tfidf, columns=column_names)\n",
    "tfidf_df['year'] = [i for i in range(1998,2018)]"
   ]
  },
  {
   "cell_type": "code",
   "execution_count": 194,
   "metadata": {
    "collapsed": true
   },
   "outputs": [],
   "source": [
    "# Retrieve top words each year, and stores in topWordsByYearTFIDF\n",
    "topWordsByYearTFIDF = {}\n",
    "\n",
    "for i in range(tfidf_df.shape[0]):\n",
    "    key = int(tfidf_df.loc[i, 'year'])\n",
    "    \n",
    "    word_score_list = []\n",
    "    \n",
    "    for j in range(tfidf_df.shape[1]-1):\n",
    "        word_score_list.append((tfidf_df.iloc[i,j], column_names[j]))\n",
    "    \n",
    "    topWordsByYearTFIDF[key] = sorted(word_score_list,reverse=True)"
   ]
  },
  {
   "cell_type": "markdown",
   "metadata": {},
   "source": [
    "Generate Word Cloud Each Year"
   ]
  },
  {
   "cell_type": "code",
   "execution_count": null,
   "metadata": {
    "collapsed": true
   },
   "outputs": [],
   "source": [
    "from wordcloud import WordCloud, STOPWORDS\n",
    "import matplotlib.pyplot as plt\n",
    "from PIL import Image\n",
    "\n",
    "for year in range(1998, 2018):\n",
    "    print(\"Generating WordCloud for year {}\".format(year))\n",
    "    d = {}\n",
    "    for c, w in topWordsByYearTFIDF[year]:\n",
    "        if w[0] != 'x' and not w[0].isdigit():\n",
    "            d[w] = c\n",
    "    \n",
    "    for y in range(1998, 2018):\n",
    "        d[str(y)] = 0\n",
    "    d[str(year)] = topWordsByYearTFIDF[year][0][0]\n",
    "    \n",
    "    mask = np.array(Image.open('analyzed/popular_words/mask.png'))\n",
    "    \n",
    "    stopwords = set(STOPWORDS)\n",
    "    stopwords.add(\"using\")\n",
    "    stopwords.add(\"yesterday\")\n",
    "    \n",
    "    wordcloud = WordCloud(background_color=\"white\", mask=mask, stopwords=stopwords)\n",
    "    wordcloud.generate_from_frequencies(frequencies=d)\n",
    "    wordcloud.to_file('analyzed/popular_words/wordcloud_{}.png'.format(year))\n",
    "    plt.figure()\n",
    "    plt.imshow(wordcloud, interpolation=\"bilinear\")\n",
    "    plt.axis(\"off\")\n",
    "    plt.show()"
   ]
  },
  {
   "cell_type": "markdown",
   "metadata": {},
   "source": [
    "Here are the plots:"
   ]
  },
  {
   "cell_type": "markdown",
   "metadata": {},
   "source": [
    "<img src=\"https://s3.amazonaws.com/thermoelectric-publication-s3/wordcloudeachyear/KeywordsPerYear.png\" alt=\"Keywords Per Year\">"
   ]
  },
  {
   "cell_type": "code",
   "execution_count": null,
   "metadata": {
    "collapsed": true
   },
   "outputs": [],
   "source": []
  }
 ],
 "metadata": {
  "kernelspec": {
   "display_name": "Python 3",
   "language": "python",
   "name": "python3"
  },
  "language_info": {
   "codemirror_mode": {
    "name": "ipython",
    "version": 3
   },
   "file_extension": ".py",
   "mimetype": "text/x-python",
   "name": "python",
   "nbconvert_exporter": "python",
   "pygments_lexer": "ipython3",
   "version": "3.6.2"
  }
 },
 "nbformat": 4,
 "nbformat_minor": 2
}
